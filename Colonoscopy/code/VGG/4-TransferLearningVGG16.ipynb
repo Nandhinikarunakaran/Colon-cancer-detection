{
 "cells": [
  {
   "cell_type": "markdown",
   "metadata": {},
   "source": [
    "# VGG16 Transfer Learning for Colonoscopy Polyps\n",
    "\n",
    "In the previous script ([3-Small_CNNs.ipynb](3-Small_CNNs.ipynb)), a classifier with over 95% of accuracy was obtained using only a small CNN (Conv-Conv-Conv-FC).\n",
    "\n",
    "This script, I will try to apply Transfer Learning using pre-trained VGG16:\n",
    "* Freeze the bottom part of the VGG16 - keeping the pre-trained weights in the convolutional layers.\n",
    "* Save outputs from bottom moodel - because the bottom model is constant, it will be calculated only one time the outputs for the use of training and validation subsets.\n",
    "* Train only the FC layer - The outputs of the bottom model will be the inputs for the trainable model.\n",
    "* The best model will be saved on disk.\n",
    "\n",
    "Let's import the needed libraries:"
   ]
  },
  {
   "cell_type": "code",
   "execution_count": 3,
   "metadata": {},
   "outputs": [],
   "source": [
    "import numpy as np\n",
    "from keras.preprocessing.image import ImageDataGenerator\n",
    "from keras.models import Sequential\n",
    "from keras.layers import Dropout, Flatten, Dense, Activation, BatchNormalization\n",
    "from keras import applications\n",
    "from keras.callbacks import ModelCheckpoint, EarlyStopping\n",
    "from keras import backend as K\n",
    "from tensorflow.keras.layers import BatchNormalization\n",
    "import keras\n",
    "from keras import optimizers\n",
    "from matplotlib import pyplot as plt\n",
    "from IPython.display import clear_output\n",
    "from sklearn.metrics import roc_auc_score\n",
    "from numpy.random import seed\n",
    "import tensorflow\n",
    "import time, os\n",
    "from __future__ import with_statement\n",
    "%matplotlib inline"
   ]
  },
  {
   "cell_type": "markdown",
   "metadata": {},
   "source": [
    "Set calculation parameters such as image dimensions, folders for dataset, folder for saved models, number of training/validation images, training epochs and batch size.\n",
    "\n",
    "**Important note**: `batch_size` is used in the next training / dataget lines and the intermediate bottom outputs will depend on this value!"
   ]
  },
  {
   "cell_type": "code",
   "execution_count": 4,
   "metadata": {},
   "outputs": [],
   "source": [
    "# Dimensions of our images\n",
    "img_width, img_height = 150, 150\n",
    "\n",
    "# Train & validation folders\n",
    "train_data_dir      = r'C:\\Users\\Asus\\Desktop\\PG Project\\Nandhini\\Phase 2\\Github code\\Colonoscopy-polyps-detection-with-CNNs-master\\data_polyps\\train'\n",
    "validation_data_dir = r'C:\\Users\\Asus\\Desktop\\PG Project\\Nandhini\\Phase 2\\Github code\\Colonoscopy-polyps-detection-with-CNNs-master\\data_polyps\\validation'\n",
    "\n",
    "# Folder to save the models\n",
    "modelFolder = 'savedd_models'\n",
    "\n",
    "# Sample parameters\n",
    "nb_train_samples      = 910 # number of training images (all classes)\n",
    "nb_validation_samples = 302 # number of validation images (all classes)\n",
    "\n",
    "# Initial training params from the previous small CNN script\n",
    "epochs     = 2 # training epochs\n",
    "batch_size = 64 # batch size for training"
   ]
  },
  {
   "cell_type": "markdown",
   "metadata": {},
   "source": [
    "Define the paths & filenames for the outputs for training and validation using the bottom pre-trained VGG model. These outpus will be calculated only one time and use as inputs for the training of the FC layer (top model)."
   ]
  },
  {
   "cell_type": "code",
   "execution_count": 6,
   "metadata": {},
   "outputs": [],
   "source": [
    "# Training results for our dataset using pre-trained VGG16 (Convolutional layers only, without top FC)\n",
    "bottleneck_features_train_path = r\"C:\\Users\\Asus\\Desktop\\PG Project\\Nandhini\\Phase 2\\Github code\\Colonoscopy-polyps-detection-with-CNNs-master\\saved_models\\transferVGG16_bottleneck_features_train.npy\"\n",
    "\n",
    "# Validation results for our dataset using pre-trained VGG16 (Convolutional layers only, without top FC)\n",
    "bottleneck_features_validation_path = r\"C:\\Users\\Asus\\Desktop\\PG Project\\Nandhini\\Phase 2\\Github code\\Colonoscopy-polyps-detection-with-CNNs-master\\saved_models\\transferVGG16_bottleneck_features_validation.npy\"\n",
    "\n",
    "# Top top model weights to used for future calculations for layer initialization\n",
    "top_model_weights_path = r\"C:\\Users\\Asus\\Desktop\\PG Project\\Nandhini\\Phase 2\\Github code\\Colonoscopy-polyps-detection-with-CNNs-master\\saved_models\\transferVGG16_bottleneck_fc_model.h5\"\n",
    "\n",
    "# Earlystoping saved model\n",
    "earlystoping_path = r\"C:\\Users\\Asus\\Desktop\\PG Project\\Nandhini\\Phase 2\\Github code\\Colonoscopy-polyps-detection-with-CNNs-master\\saved_models\\transferVGG16_earlystop_model.h5\""
   ]
  },
  {
   "cell_type": "markdown",
   "metadata": {},
   "source": [
    "Correct the order of the channels if needed:"
   ]
  },
  {
   "cell_type": "code",
   "execution_count": 7,
   "metadata": {},
   "outputs": [],
   "source": [
    "if K.image_data_format() == 'channels_first':\n",
    "    input_shape = (3, img_width, img_height)\n",
    "else:\n",
    "    input_shape = (img_width, img_height, 3)"
   ]
  },
  {
   "cell_type": "markdown",
   "metadata": {},
   "source": [
    "### Step 1 - Calculate the outputs of bottom VGG model for training and validation\n",
    "\n",
    "You could observe that in `ImageDataGenerator` we do not use the data augmentation as in the previous script. So, we use only the original dataset of colonoscopy polyps/non-polyps."
   ]
  },
  {
   "cell_type": "code",
   "execution_count": 8,
   "metadata": {},
   "outputs": [],
   "source": [
    "def save_bottlebeck_features(batch_size):\n",
    "    # Calculate the outputs for training and validations sets using bottom pre-trained VGG16\n",
    "    # Input: batch_size - it will be used to save to file\n",
    "    # Output: number of the examples for the saved outputs (it could be different from the original dataset!)\n",
    "    \n",
    "    # set numpy and tensorflow seeds for reproductibility\n",
    "    #seed(1)            # numpy seed\n",
    "    #set_random_seed(2) # tensorflow seed\n",
    "    \n",
    "    # No data augmentation!\n",
    "    datagen = ImageDataGenerator(rescale=1. / 255)\n",
    "    \n",
    "    # Build the VGG16 network - get VGG16 trained for imagenet without the top layer\n",
    "    model = applications.VGG16(include_top=False, weights='imagenet')\n",
    "\n",
    "    # Generate training data from train folder\n",
    "    # generator = datagen.flow_from_directory(\n",
    "    generator = datagen.flow_from_directory(\n",
    "        train_data_dir,\n",
    "        target_size=(img_width, img_height),\n",
    "        batch_size=batch_size,\n",
    "        class_mode=None,\n",
    "        shuffle=False)\n",
    "  \n",
    "    # Calculate the output of bottom VGG16 using training data\n",
    "    bottleneck_features_train = model.predict_generator(\n",
    "            generator, nb_train_samples // batch_size)\n",
    "    # Save the traing outputs\n",
    "    np.save(bottleneck_features_train_path, bottleneck_features_train)\n",
    "\n",
    "    # Generate validation data from train folder\n",
    "    generator = datagen.flow_from_directory(\n",
    "        validation_data_dir,\n",
    "        target_size=(img_width, img_height),\n",
    "        batch_size=batch_size,\n",
    "        class_mode=None,\n",
    "        shuffle=False)\n",
    "            \n",
    "    # Calculate the output of bottom VGG16 using validation data\n",
    "    bottleneck_features_validation = model.predict_generator(\n",
    "            generator, nb_validation_samples // batch_size)\n",
    "    \n",
    "    # Save the validation outputs\n",
    "    np.save(bottleneck_features_validation_path, bottleneck_features_validation)\n",
    "    return (bottleneck_features_train.shape[0], bottleneck_features_validation.shape[0]) # return the new shapes if modified"
   ]
  },
  {
   "cell_type": "markdown",
   "metadata": {},
   "source": [
    "Calculate the training and validation outputs from the bottom VGG16 model. Get the new values for the number of examples:"
   ]
  },
  {
   "cell_type": "code",
   "execution_count": 9,
   "metadata": {},
   "outputs": [
    {
     "name": "stdout",
     "output_type": "stream",
     "text": [
      "Downloading data from https://storage.googleapis.com/tensorflow/keras-applications/vgg16/vgg16_weights_tf_dim_ordering_tf_kernels_notop.h5\n",
      "58889256/58889256 [==============================] - 259s 4us/step\n",
      "Found 910 images belonging to 2 classes.\n"
     ]
    },
    {
     "name": "stderr",
     "output_type": "stream",
     "text": [
      "C:\\Users\\Asus\\AppData\\Local\\Temp\\ipykernel_884\\1974639462.py:26: UserWarning: `Model.predict_generator` is deprecated and will be removed in a future version. Please use `Model.predict`, which supports generators.\n",
      "  bottleneck_features_train = model.predict_generator(\n"
     ]
    },
    {
     "name": "stdout",
     "output_type": "stream",
     "text": [
      "Found 302 images belonging to 2 classes.\n"
     ]
    },
    {
     "name": "stderr",
     "output_type": "stream",
     "text": [
      "C:\\Users\\Asus\\AppData\\Local\\Temp\\ipykernel_884\\1974639462.py:40: UserWarning: `Model.predict_generator` is deprecated and will be removed in a future version. Please use `Model.predict`, which supports generators.\n",
      "  bottleneck_features_validation = model.predict_generator(\n"
     ]
    }
   ],
   "source": [
    "nb_train_samples, nb_validation_samples = save_bottlebeck_features(batch_size=64)"
   ]
  },
  {
   "cell_type": "markdown",
   "metadata": {},
   "source": [
    "**Observation**: The initial number of training / validation examples in the subsets (910 and 302) could be modified by the `nb_train_samples // batch_size` and `nb_train_samples // batch_size` when use ` model.predict_generator`! If this division will give a rest of 0, you will not have problems. \n",
    "\n",
    "For this reason, the saved output matrices from bottom VGG16 for training and validation will contain different number of examples. Thus, it is safer to use these new dimensions for the training."
   ]
  },
  {
   "cell_type": "code",
   "execution_count": 10,
   "metadata": {},
   "outputs": [
    {
     "name": "stdout",
     "output_type": "stream",
     "text": [
      "New no of train samples      =  896\n",
      "New no of validation samples =  256\n"
     ]
    }
   ],
   "source": [
    "print('New no of train samples      = ', nb_train_samples)\n",
    "print('New no of validation samples = ', nb_validation_samples)"
   ]
  },
  {
   "cell_type": "markdown",
   "metadata": {},
   "source": [
    "### Step 2 - Train the top FC model by using the outputs from the pre-trained bottom VGG16\n",
    "\n",
    "The saved outputs for training and validation from the bottom VGG16 will be used as inputs for the FC layer (top model to train)."
   ]
  },
  {
   "cell_type": "markdown",
   "metadata": {},
   "source": [
    "This is a function to plot the training and validation loss during the training:"
   ]
  },
  {
   "cell_type": "code",
   "execution_count": 11,
   "metadata": {},
   "outputs": [],
   "source": [
    "class PlotLosses(keras.callbacks.Callback):\n",
    "    # Show the live training and validation loss during the training\n",
    "    def on_train_begin(self, logs={}):\n",
    "        self.i = 0\n",
    "        self.x = []\n",
    "        self.acc = []\n",
    "        self.val_acc = []\n",
    "        self.fig = plt.figure()\n",
    "        self.logs = []\n",
    "\n",
    "    def on_epoch_end(self, epoch, logs={}):\n",
    "        self.logs.append(logs)\n",
    "        self.x.append(self.i)\n",
    "        self.acc.append(logs.get('acc'))\n",
    "        self.val_acc.append(logs.get('val_acc'))\n",
    "        self.i += 1\n",
    "        clear_output(wait=True)\n",
    "        plt.plot(self.x, self.acc, label=\"ACC_Train\")\n",
    "        plt.plot(self.x, self.val_acc, label=\"ACC_Val\")\n",
    "        plt.legend(bbox_to_anchor=(0., 1.02, 1., .102), loc=3,\n",
    "                   ncol=2, mode=\"expand\", borderaxespad=0.)\n",
    "        plt.grid()\n",
    "        plt.show()\n",
    "\n",
    "plot_losses = PlotLosses() # initialize the class"
   ]
  },
  {
   "cell_type": "markdown",
   "metadata": {},
   "source": [
    "First, I will define a function to train the top model using different parameters such as number of epochs, batch size, optimizer type, drop rate and callback set:"
   ]
  },
  {
   "cell_type": "code",
   "execution_count": 12,
   "metadata": {},
   "outputs": [],
   "source": [
    "def train_top_model(epochs, batch_size, optimizer, drop_rate, callbacks, summary):\n",
    "    # Training top model\n",
    "    # Input:\n",
    "    # - epochs = no of training epochs\n",
    "    # - batch_size = size of sample batch during training\n",
    "    # - optimizer = string to define the optimizer (ex: 'adam', 'optimizers.RMSprop(lr=2e-4)')\n",
    "    # - drop_rate = rate of dropped neurons\n",
    "    # - callbacks = list of callbacks options\n",
    "    # - summary = if True, show the model summary (True, False)\n",
    "    \n",
    "    # set numpy and tensorflow seeds for reproductibility\n",
    "    #seed(1)            # numpy seed\n",
    "    #set_random_seed(2) # tensorflow seed\n",
    "    \n",
    "    # Load training outputs from the pre-trained bottom VGG16\n",
    "    train_data   = np.load(bottleneck_features_train_path)\n",
    "    train_labels = np.array([0] * (nb_train_samples // 2) + [1] * (nb_train_samples // 2))\n",
    "\n",
    "    # Load training outputs from the pre-trained bottom VGG16\n",
    "    validation_data   = np.load(bottleneck_features_validation_path)\n",
    "    validation_labels = np.array([0] * (nb_validation_samples // 2) + [1] * (nb_validation_samples // 2))\n",
    "\n",
    "    # Construct the top model using two parts: outputs from the bottom VGG16 + a FC layer\n",
    "    model = Sequential()\n",
    "    model.add(Flatten(input_shape=train_data.shape[1:]))\n",
    "    model.add(Dense(256, activation='relu'))\n",
    "    model.add(Dropout(drop_rate))\n",
    "    model.add(Dense(1, activation='sigmoid'))\n",
    "\n",
    "    # Compile the graph\n",
    "    model.compile(optimizer=optimizer, loss='binary_crossentropy', metrics=['accuracy'])\n",
    "\n",
    "    # Fit the model using the live plot of the loss\n",
    "    model.fit(train_data, train_labels,\n",
    "              epochs=epochs,\n",
    "              batch_size=batch_size,\n",
    "              validation_data=(validation_data, validation_labels),\n",
    "              verbose = 0,\n",
    "              callbacks=callbacks)\n",
    "    # Save the final model\n",
    "    model.save_weights(top_model_weights_path)\n",
    "\n",
    "    # Print model summary\n",
    "    if summary == True:\n",
    "        model.summary()\n",
    "    \n",
    "    # Evaluate final test loss and accuracy scores\n",
    "    score_val = model.evaluate(validation_data, validation_labels, verbose=0)\n",
    "    score_tr  = model.evaluate(train_data, train_labels, verbose=0)\n",
    "    print('Train loss    :', score_tr[0])\n",
    "    print('Train accuracy:', score_tr[1])\n",
    "    print('Validation loss    :', score_val[0])\n",
    "    print('Validation accuracy:', score_val[1])"
   ]
  },
  {
   "cell_type": "markdown",
   "metadata": {},
   "source": [
    "Let's traing the FC model using `epochs = 50`, `batch_size = 64`, `optimizer = 'adam'` (the same as the previous script for small CNNs), original FC VGG16 layer topology, saving the last model and live plotting of loss:"
   ]
  },
  {
   "cell_type": "code",
   "execution_count": 13,
   "metadata": {},
   "outputs": [
    {
     "data": {
      "image/png": "[encoded data removed]",
      "text/plain": [
       "<Figure size 640x480 with 1 Axes>"
      ]
     },
     "metadata": {},
     "output_type": "display_data"
    },
    {
     "name": "stdout",
     "output_type": "stream",
     "text": [
      "Model: \"sequential\"\n",
      "_________________________________________________________________\n",
      " Layer (type)                Output Shape              Param #   \n",
      "=================================================================\n",
      " flatten (Flatten)           (None, 8192)              0         \n",
      "                                                                 \n",
      " dense (Dense)               (None, 256)               2097408   \n",
      "                                                                 \n",
      " dropout (Dropout)           (None, 256)               0         \n",
      "                                                                 \n",
      " dense_1 (Dense)             (None, 1)                 257       \n",
      "                                                                 \n",
      "=================================================================\n",
      "Total params: 2,097,665\n",
      "Trainable params: 2,097,665\n",
      "Non-trainable params: 0\n",
      "_________________________________________________________________\n",
      "Train loss    : 0.2593911588191986\n",
      "Train accuracy: 0.8917410969734192\n",
      "Validation loss    : 0.4869757890701294\n",
      "Validation accuracy: 0.8125\n"
     ]
    }
   ],
   "source": [
    "epochs     = 2\n",
    "batch_size = 64 # this value should be the same with the one used for save_bottlebeck_features()\n",
    "optimizer  = 'adam'\n",
    "drop_rate  = 0.5\n",
    "callbacks  = [plot_losses]\n",
    "summary    = True # for the first time show the summary of the trained top model\n",
    "\n",
    "train_top_model(epochs, batch_size, optimizer, drop_rate, callbacks, summary)"
   ]
  },
  {
   "cell_type": "markdown",
   "metadata": {},
   "source": [
    "The overfitting is huge. So, I tried to apply more regularization by increasing the drop rate to `0.9`:"
   ]
  },
  {
   "cell_type": "code",
   "execution_count": 14,
   "metadata": {},
   "outputs": [
    {
     "data": {
      "image/png": "[encoded data removed]",
      "text/plain": [
       "<Figure size 640x480 with 1 Axes>"
      ]
     },
     "metadata": {},
     "output_type": "display_data"
    },
    {
     "name": "stdout",
     "output_type": "stream",
     "text": [
      "Train loss    : 0.5172671675682068\n",
      "Train accuracy: 0.8604910969734192\n",
      "Validation loss    : 0.5576057434082031\n",
      "Validation accuracy: 0.78125\n"
     ]
    }
   ],
   "source": [
    "epochs     = 2\n",
    "batch_size = 64 # this value should be the same with the one used for save_bottlebeck_features()\n",
    "optimizer  = 'adam'\n",
    "drop_rate  = 0.9\n",
    "callbacks  = callbacks=[plot_losses]\n",
    "summary    = False # for the first time show the summary of the trained top model\n",
    "\n",
    "nb_train_samples, nb_validation_samples = save_bottlebeck_features(batch_size)\n",
    "train_top_model(epochs, batch_size, optimizer, drop_rate, callbacks, summary)"
   ]
  },
  {
   "cell_type": "markdown",
   "metadata": {},
   "source": [
    "With increased drop rate, the overfitting is decreasing but results are not better than the previous small CNN."
   ]
  },
  {
   "cell_type": "markdown",
   "metadata": {},
   "source": [
    "## Conclusion\n",
    "\n",
    "If we try to use VGG16 transfer learning for our current dataset, no better results will be obtained than a small CNN (over 90% test accuracy). This could be explained by the training of VGG16 with the Imagenet dataset that is very different with the polyps. In addition, we used the original dataset, without data augmentation because of the transfer learning advantage. \n",
    "\n",
    "Additional fine tunnings ([5-FineTuningVGG16.ipynb](5-FineTuningVGG16.ipynb)) should be used to search for better classifiers for the current task (prediction of a colonoscopy polyp image).\n",
    "\n",
    "Have fun with DL! @muntisa"
   ]
  },
  {
   "cell_type": "markdown",
   "metadata": {},
   "source": [
    "### Acknowledgements\n",
    "\n",
    "I gratefully acknowledge the support of NVIDIA Corporation with the donation of the Titan Xp GPU used for this research ([https://developer.nvidia.com/academic_gpu_seeding](https://developer.nvidia.com/academic_gpu_seeding))."
   ]
  },
  {
   "cell_type": "code",
   "execution_count": null,
   "metadata": {},
   "outputs": [],
   "source": []
  }
 ],
 "metadata": {
  "kernelspec": {
   "display_name": "Python 3 (ipykernel)",
   "language": "python",
   "name": "python3"
  },
  "language_info": {
   "codemirror_mode": {
    "name": "ipython",
    "version": 3
   },
   "file_extension": ".py",
   "mimetype": "text/x-python",
   "name": "python",
   "nbconvert_exporter": "python",
   "pygments_lexer": "ipython3",
   "version": "3.9.13"
  }
 },
 "nbformat": 4,
 "nbformat_minor": 2
}
