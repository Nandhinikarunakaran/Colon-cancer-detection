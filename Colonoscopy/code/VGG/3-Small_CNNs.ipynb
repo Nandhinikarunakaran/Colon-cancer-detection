{
 "cells": [
  {
   "cell_type": "markdown",
   "metadata": {},
   "source": [
    "## Small Deep Neural Networks for colonoscopy polyps\n",
    "\n",
    "After extracting polyps and non-polyps images to create a dataset and split the dataset into train and validation subfolders, I shall try different neural networks from small CNNs to VGG/Inception nets using Transfer Learning. I will demonstrate that it is possible to obtain a small CNN classifier with over 90% accuracy in only 2 minutes of training (CPU i7, 16G RAM, GPU Nvidia Titan Xp).\n",
    "\n",
    "Let's import some packages for the next calculations:"
   ]
  },
  {
   "cell_type": "code",
   "execution_count": 1,
   "metadata": {},
   "outputs": [
    {
     "name": "stderr",
     "output_type": "stream",
     "text": [
      "c:\\program files\\python35\\lib\\site-packages\\h5py\\__init__.py:36: FutureWarning: Conversion of the second argument of issubdtype from `float` to `np.floating` is deprecated. In future, it will be treated as `np.float64 == np.dtype(float).type`.\n",
      "  from ._conv import register_converters as _register_converters\n",
      "Using TensorFlow backend.\n"
     ]
    }
   ],
   "source": [
    "import keras\n",
    "from keras import optimizers\n",
    "from keras.preprocessing.image import ImageDataGenerator\n",
    "from keras.models import Sequential\n",
    "from keras.layers import Conv2D, MaxPooling2D\n",
    "from keras.layers import Activation, Dropout, Flatten, Dense\n",
    "from keras.layers.normalization import BatchNormalization\n",
    "from keras import backend as K\n",
    "import numpy as np\n",
    "from matplotlib import pyplot as plt\n",
    "from IPython.display import clear_output\n",
    "\n",
    "from sklearn.metrics import roc_auc_score\n",
    "from numpy.random import seed\n",
    "from tensorflow import set_random_seed\n",
    "\n",
    "import time, os\n",
    "from __future__ import with_statement\n",
    "\n",
    "%matplotlib inline"
   ]
  },
  {
   "cell_type": "markdown",
   "metadata": {},
   "source": [
    "This is a function that will help you to visualize the training and validation accuracy during the training inside the browser (source: [live_loss_plot_keras.ipynb](https://gist.github.com/stared/dfb4dfaf6d9a8501cd1cc8b8cb806d2e)).\n",
    "\n",
    "**Note**: if you want to run the training script not inside the notebook, you need to remove this function call from your traning! If not, after each epoch you will need to manually close the new plot!"
   ]
  },
  {
   "cell_type": "code",
   "execution_count": 65,
   "metadata": {},
   "outputs": [],
   "source": [
    "class PlotLosses(keras.callbacks.Callback):\n",
    "    # Show the live training and validation loss during the training\n",
    "    def on_train_begin(self, logs={}):\n",
    "        self.i = 0\n",
    "        self.x = []\n",
    "        self.acc = []\n",
    "        self.val_acc = []\n",
    "        self.fig = plt.figure()\n",
    "        self.logs = []\n",
    "\n",
    "    def on_epoch_end(self, epoch, logs={}):\n",
    "        self.logs.append(logs)\n",
    "        self.x.append(self.i)\n",
    "        self.acc.append(logs.get('acc'))\n",
    "        self.val_acc.append(logs.get('val_acc'))\n",
    "        self.i += 1\n",
    "        clear_output(wait=True)\n",
    "        plt.plot(self.x, self.acc, label=\"ACC_Train\")\n",
    "        plt.plot(self.x, self.val_acc, label=\"ACC_Val\")\n",
    "        plt.legend(bbox_to_anchor=(0., 1.02, 1., .102), loc=3,\n",
    "                   ncol=2, mode=\"expand\", borderaxespad=0.)\n",
    "        plt.grid()\n",
    "        # plt.ylim(0.0, 1.0) # limited Y values to 1.0!\n",
    "        plt.show()\n",
    "\n",
    "plot_losses = PlotLosses() # initialize the class"
   ]
  },
  {
   "cell_type": "markdown",
   "metadata": {},
   "source": [
    "Define several constants:\n",
    "* dimensions for our images to be used in the models\n",
    "* folders for train and validation subsets\n",
    "* number of train and validation samples"
   ]
  },
  {
   "cell_type": "code",
   "execution_count": 3,
   "metadata": {},
   "outputs": [],
   "source": [
    "# Dimensions of our images.\n",
    "img_width, img_height = 150, 150\n",
    "\n",
    "# Train & validation folders\n",
    "train_data_dir      = 'data_polyps/train'\n",
    "validation_data_dir = 'data_polyps/validation'\n",
    "\n",
    "# Folder to save the models\n",
    "modelFolder = 'saved_models'\n",
    "\n",
    "# Train parameters\n",
    "nb_train_samples      = 910\n",
    "nb_validation_samples = 302"
   ]
  },
  {
   "cell_type": "markdown",
   "metadata": {},
   "source": [
    "Change the order of the dimensions and channel depending on the input image: (channels, width, height) or (width, height, channels). We are using 3 channels for this study (RGB)."
   ]
  },
  {
   "cell_type": "code",
   "execution_count": 4,
   "metadata": {},
   "outputs": [],
   "source": [
    "if K.image_data_format() == 'channels_first':\n",
    "    input_shape = (3, img_width, img_height)\n",
    "else:\n",
    "    input_shape = (img_width, img_height, 3)"
   ]
  },
  {
   "cell_type": "markdown",
   "metadata": {},
   "source": [
    "### Small CNNs: 1 Conv + 1 FC\n",
    "\n",
    "We start our calculations using a CNN with a convolution and a fully connected layers. The next section is a function for this type of CNN with 5 parameters: number of filters, dimension of the convolution, epochs, batch size and size of the inputs. You could personalize this function with other parameters such as dropout rate, activation function, etc.\n",
    "\n",
    "`CNN_1Conv_1FC` will have the following characteristics explained into the code:\n",
    "* Uses 2 types of seed for the maximum reproductibility: one for numpy, other for tensorflow; remember that each GPU could still involve some random data.\n",
    "* Conv layer is using `relu` activation function and `MaxPooling2D`.\n",
    "* FC layer is using the same `relu` activation and a `dropout = 0.5`.\n",
    "* The output layer is using `sigmoid` activation for polyps / non-polyps classification.\n",
    "* The loss functions is using the `binary cross entropy` optimization with `rmsprop` algorithm with `accuracy` metrics.\n",
    "* `ImageDataGenerator` form keras is using to create augmented images from the original using different transformations such as flipping, rotation, zoom, etc. I choose these transformations because I consider to be important for the current colonoscopy polyps model. You could add other transformation!\n",
    "* The fitting of the model is using a custom callbacks class to plot the loss and accuracy during the training (`plot_losses`).\n",
    "* The weights and the full model are saved as files.\n",
    "* Show the final trainign and test lose.\n",
    "* Show the live plot during the training similar with Tensorboard."
   ]
  },
  {
   "cell_type": "code",
   "execution_count": 22,
   "metadata": {},
   "outputs": [],
   "source": [
    "def CNN_1Conv_1FC(convs, dims, epochs, batch_size, input_shape):\n",
    "    # CNN with 1 Conv + 1 FC\n",
    "    # convs = no of filters\n",
    "    # dims = dimension of convolution dims x dims\n",
    "    # epochs = training epochs\n",
    "    # batch_size = training batch size\n",
    "    # input_shape = shape of the inputs\n",
    "    \n",
    "    # for reproductibility\n",
    "    #seed(74)            # numpy seed\n",
    "    #set_random_seed(74) # tensorflow seed\n",
    "    \n",
    "    # Start the computational graph for our CNN\n",
    "    model = Sequential()\n",
    "    \n",
    "    # CNN filters\n",
    "    model.add(Conv2D(convs, (dims, dims), input_shape=input_shape))\n",
    "    model.add(Activation('relu'))\n",
    "    model.add(MaxPooling2D(pool_size=(2, 2)))\n",
    "\n",
    "    # Convert convolution to a fully connected layer\n",
    "    model.add(Flatten())\n",
    "    model.add(Dense(convs))\n",
    "    model.add(Activation('relu'))\n",
    "    model.add(Dropout(0.5))\n",
    "    model.add(Dense(1))\n",
    "    model.add(Activation('sigmoid'))\n",
    "    \n",
    "    # Compile the model\n",
    "    model.compile(loss='binary_crossentropy',\n",
    "                  optimizer='rmsprop',\n",
    "                  metrics=['accuracy'])\n",
    "\n",
    "    # Aaugmentation configuration for training set\n",
    "    train_datagen = ImageDataGenerator(\n",
    "        rescale=1. / 255,\n",
    "        shear_range=0.2,\n",
    "        zoom_range =0.2,\n",
    "        horizontal_flip=True,\n",
    "        vertical_flip=True,\n",
    "        rotation_range=90)\n",
    "\n",
    "    # Augmentation configuration for testing set: only rescaling!\n",
    "    test_datagen = ImageDataGenerator(rescale=1. / 255)\n",
    "    \n",
    "    train_generator = train_datagen.flow_from_directory(\n",
    "        train_data_dir,\n",
    "        target_size=(img_width, img_height),\n",
    "        batch_size=batch_size,\n",
    "        class_mode='binary')\n",
    "\n",
    "    validation_generator = test_datagen.flow_from_directory(\n",
    "        validation_data_dir,\n",
    "        target_size=(img_width, img_height),\n",
    "        batch_size=batch_size,\n",
    "        class_mode='binary')\n",
    "\n",
    "    model.fit_generator(\n",
    "        train_generator,\n",
    "        steps_per_epoch=nb_train_samples // batch_size,\n",
    "        epochs=epochs,\n",
    "        validation_data=validation_generator,\n",
    "        validation_steps=nb_validation_samples // batch_size,\n",
    "        callbacks=[plot_losses], # using the plotting function for train and validation loss\n",
    "        verbose=0)\n",
    "\n",
    "    # Evaluate final test loss and accuracy scores\n",
    "    score = model.evaluate_generator(validation_generator, nb_validation_samples//batch_size, workers=7)\n",
    "    print('Validation/Test loss    :', score[0])\n",
    "    print('Validation/Test accuracy:', score[1])\n",
    "    \n",
    "    return model # return the model!"
   ]
  },
  {
   "cell_type": "markdown",
   "metadata": {},
   "source": [
    "Search for a CNN with 32 filter of 3 x 3 pixels:"
   ]
  },
  {
   "cell_type": "code",
   "execution_count": 9,
   "metadata": {},
   "outputs": [
    {
     "data": {
      "image/png": "[encoded data removed]",
      "text/plain": [
       "<Figure size 432x288 with 1 Axes>"
      ]
     },
     "metadata": {},
     "output_type": "display_data"
    },
    {
     "name": "stdout",
     "output_type": "stream",
     "text": [
      "Validation/Test loss    : 0.4046796038746834\n",
      "Validation/Test accuracy: 0.82421875\n",
      "_________________________________________________________________\n",
      "Layer (type)                 Output Shape              Param #   \n",
      "=================================================================\n",
      "conv2d_3 (Conv2D)            (None, 148, 148, 32)      896       \n",
      "_________________________________________________________________\n",
      "activation_7 (Activation)    (None, 148, 148, 32)      0         \n",
      "_________________________________________________________________\n",
      "max_pooling2d_3 (MaxPooling2 (None, 74, 74, 32)        0         \n",
      "_________________________________________________________________\n",
      "flatten_3 (Flatten)          (None, 175232)            0         \n",
      "_________________________________________________________________\n",
      "dense_5 (Dense)              (None, 32)                5607456   \n",
      "_________________________________________________________________\n",
      "activation_8 (Activation)    (None, 32)                0         \n",
      "_________________________________________________________________\n",
      "dropout_3 (Dropout)          (None, 32)                0         \n",
      "_________________________________________________________________\n",
      "dense_6 (Dense)              (None, 1)                 33        \n",
      "_________________________________________________________________\n",
      "activation_9 (Activation)    (None, 1)                 0         \n",
      "=================================================================\n",
      "Total params: 5,608,385\n",
      "Trainable params: 5,608,385\n",
      "Non-trainable params: 0\n",
      "_________________________________________________________________\n",
      "None\n",
      "---> Save model ...\n",
      "Done!\n"
     ]
    }
   ],
   "source": [
    "print('--> Training Conv-FC ver 1 ...')\n",
    "model = CNN_1Conv_1FC(convs=32, dims=3, epochs=50, batch_size=64, input_shape= input_shape)\n",
    "print(model.summary())\n",
    "\n",
    "# Save the weights and the full model\n",
    "print('---> Save model ...')\n",
    "model.save_weights(os.path.join(modelFolder,'model1_1_Conv-FC_weigths.h5'))\n",
    "print('Done!')"
   ]
  },
  {
   "cell_type": "markdown",
   "metadata": {},
   "source": [
    "**Conclusion**: with a `Conv + FC topology with 32 filters of 3 x 3 pixels`, we are able to obtain in `50 epochs` a classifier with over `80% test accuracy` for the polyps vs non-polyps prediction! Remember, we are not using any transfer learning, we are training a simple CNN. We are training `5,608,385 parameters`!\n",
    "\n",
    "Let's check a second CNN but with filter of `5 x 5` pixels:"
   ]
  },
  {
   "cell_type": "code",
   "execution_count": 27,
   "metadata": {
    "scrolled": true
   },
   "outputs": [
    {
     "data": {
      "image/png": "[encoded data removed]",
      "text/plain": [
       "<Figure size 432x288 with 1 Axes>"
      ]
     },
     "metadata": {},
     "output_type": "display_data"
    },
    {
     "name": "stdout",
     "output_type": "stream",
     "text": [
      "Validation/Test loss    : 0.5873111039400101\n",
      "Validation/Test accuracy: 0.7421875\n",
      "---> Save model ...\n",
      "Done!\n"
     ]
    }
   ],
   "source": [
    "print('--> Training Conv-FC ver 2 ...')\n",
    "model = CNN_1Conv_1FC(convs=32, dims=5, epochs=50, batch_size=64, input_shape= input_shape)\n",
    "# Save the weights and the full model\n",
    "print('---> Save model ...')\n",
    "model.save_weights(os.path.join(modelFolder,'model1_2_Conv-FC_weigths.h5'))\n",
    "print('Done!')"
   ]
  },
  {
   "cell_type": "markdown",
   "metadata": {},
   "source": [
    "**Conclusion**: in the case of the `Conv + FC topology, 32 filters 5 x 5` we can obtain less than 80% accuracy in 50 epochs (`5,459,393 parameters`). This means bigger filters are not able to find the best patterns for this classification.\n",
    "\n",
    "Maybe it could improve with the increasing of the number of filters 3 x 3. Let's test with 64 filters (double than the previous ones):"
   ]
  },
  {
   "cell_type": "code",
   "execution_count": 25,
   "metadata": {},
   "outputs": [
    {
     "data": {
      "image/png": "[encoded data removed]",
      "text/plain": [
       "<Figure size 432x288 with 1 Axes>"
      ]
     },
     "metadata": {},
     "output_type": "display_data"
    },
    {
     "name": "stdout",
     "output_type": "stream",
     "text": [
      "Validation/Test loss    : 0.4850814938545227\n",
      "Validation/Test accuracy: 0.82421875\n",
      "---> Save model ...\n",
      "Done!\n"
     ]
    }
   ],
   "source": [
    "print('--> Training Conv-FC ver 3 ...')\n",
    "model = CNN_1Conv_1FC(convs=64, dims=3, epochs=100, batch_size=64, input_shape= input_shape)\n",
    "# Save the weights and the full model\n",
    "print('---> Save model ...')\n",
    "model.save_weights(os.path.join(modelFolder,'model1_3_Conv-FC_weigths.h5'))\n",
    "print('Done!')"
   ]
  },
  {
   "cell_type": "markdown",
   "metadata": {},
   "source": [
    "Let's try `128` filters with `3 x 3` pixels (double than previous calculation and 4 times greater than the first model):"
   ]
  },
  {
   "cell_type": "code",
   "execution_count": 28,
   "metadata": {},
   "outputs": [
    {
     "data": {
      "image/png": "[encoded data removed]",
      "text/plain": [
       "<Figure size 432x288 with 1 Axes>"
      ]
     },
     "metadata": {},
     "output_type": "display_data"
    },
    {
     "name": "stdout",
     "output_type": "stream",
     "text": [
      "Validation/Test loss    : 0.3926382213830948\n",
      "Validation/Test accuracy: 0.859375\n",
      "---> Save model ...\n",
      "Done!\n"
     ]
    }
   ],
   "source": [
    "print('--> Training Conv-FC ver 4 ...')\n",
    "model = CNN_1Conv_1FC(convs=128, dims=3, epochs=100, batch_size=64, input_shape= input_shape)\n",
    "# Save the weights and the full model\n",
    "print('---> Save model ...')\n",
    "model.save_weights(os.path.join(modelFolder,'model1_4_Conv-FC_weigths.h5'))\n",
    "print('Done!')"
   ]
  },
  {
   "cell_type": "markdown",
   "metadata": {},
   "source": [
    "**Conclusions**: Only few % of ACC improvement was obtained by using a double/triple quantity of filters 3 x 3 but using `22,431,617` / `89,722,625` parameters compared with `5,608,385` params for 32 filters.\n",
    "\n",
    "In the next step, we add extra convolutional layers to the CNN.\n",
    "\n",
    "### Small CNNs: 2 Conv + 1 FC\n",
    "\n",
    "We continue our study by adding an extra Conv layer. The main idea is to try to have an extra layer that could find more general patters from the basic ones in the first Conv layer. Thus, we define a second CNN topology with **Conv-Conv-FC** (`CNN_2Conv_1FC`). I will use `adam` optimizer for faster calculations."
   ]
  },
  {
   "cell_type": "code",
   "execution_count": 40,
   "metadata": {},
   "outputs": [],
   "source": [
    "def CNN_2Conv_1FC(convs, dims, epochs, batch_size, input_shape):\n",
    "    # CNN with 2 Conv + 1 FC\n",
    "    # convs = no of filters\n",
    "    # dims = dimension of convolution dims x dims\n",
    "    # epochs = training epochs\n",
    "    # batch_size = training batch size\n",
    "    # input_shape = shape of the inputs\n",
    "    \n",
    "    # for reproductibility\n",
    "    #seed(1)            # numpy seed\n",
    "    #set_random_seed(2) # tensorflow seed\n",
    "    \n",
    "    # Start the computational graph for our CNN\n",
    "    model = Sequential()\n",
    "    \n",
    "    # Conv 1 filters\n",
    "    model.add(Conv2D(convs, (dims, dims), input_shape=input_shape))\n",
    "    model.add(Activation('relu'))\n",
    "    model.add(MaxPooling2D(pool_size=(2, 2)))\n",
    "    \n",
    "    # Conv 2 filters\n",
    "    model.add(Conv2D(convs*2, (dims, dims))) # second Conv has 2x filters!\n",
    "    model.add(Activation('relu'))\n",
    "    model.add(MaxPooling2D(pool_size=(2, 2)))\n",
    "\n",
    "    # Convert convolution to a fully connected layer\n",
    "    model.add(Flatten())\n",
    "    model.add(Dense(convs*2)) # FC has 2x neurons!\n",
    "    model.add(Activation('relu'))\n",
    "    model.add(Dropout(0.5))\n",
    "    model.add(Dense(1))\n",
    "    model.add(Activation('sigmoid'))\n",
    "    \n",
    "    # Compile the model\n",
    "    model.compile(loss='binary_crossentropy',\n",
    "                  optimizer= 'adam', # 'rmsprop',\n",
    "                  metrics=['accuracy'])\n",
    "\n",
    "    # Aaugmentation configuration for training set\n",
    "    train_datagen = ImageDataGenerator(\n",
    "        rescale=1. / 255,\n",
    "        shear_range=0.2,\n",
    "        zoom_range =0.2,\n",
    "        horizontal_flip=True,\n",
    "        vertical_flip=True,\n",
    "        rotation_range=90)\n",
    "\n",
    "    # Augmentation configuration for testing set: only rescaling!\n",
    "    test_datagen = ImageDataGenerator(rescale=1. / 255)\n",
    "    \n",
    "    train_generator = train_datagen.flow_from_directory(\n",
    "        train_data_dir,\n",
    "        target_size=(img_width, img_height),\n",
    "        batch_size=batch_size,\n",
    "        class_mode='binary')\n",
    "\n",
    "    validation_generator = test_datagen.flow_from_directory(\n",
    "        validation_data_dir,\n",
    "        target_size=(img_width, img_height),\n",
    "        batch_size=batch_size,\n",
    "        class_mode='binary')\n",
    "\n",
    "    model.fit_generator(\n",
    "        train_generator,\n",
    "        steps_per_epoch=nb_train_samples // batch_size,\n",
    "        epochs=epochs,\n",
    "        validation_data=validation_generator,\n",
    "        validation_steps=nb_validation_samples // batch_size,\n",
    "        callbacks=[plot_losses], # using the plotting function for train and validation loss\n",
    "        verbose=0)\n",
    "\n",
    "    # Evaluate final test loss and accuracy scores\n",
    "    score = model.evaluate_generator(validation_generator, nb_validation_samples//batch_size, workers=7)\n",
    "    print('Validation/Test loss    :', score[0])\n",
    "    print('Validation/Test accuracy:', score[1])\n",
    "    \n",
    "    return model # return the model!"
   ]
  },
  {
   "cell_type": "markdown",
   "metadata": {},
   "source": [
    "Let's see the classifier for this topology using `32 filters - 64 filters - 64 FC`. All filters are 3 x 3 pixels."
   ]
  },
  {
   "cell_type": "code",
   "execution_count": 35,
   "metadata": {},
   "outputs": [
    {
     "data": {
      "image/png": "[encoded data removed]",
      "text/plain": [
       "<Figure size 432x288 with 1 Axes>"
      ]
     },
     "metadata": {},
     "output_type": "display_data"
    },
    {
     "name": "stdout",
     "output_type": "stream",
     "text": [
      "Validation/Test loss    : 0.35756915807724\n",
      "Validation/Test accuracy: 0.8671875\n",
      "_________________________________________________________________\n",
      "Layer (type)                 Output Shape              Param #   \n",
      "=================================================================\n",
      "conv2d_19 (Conv2D)           (None, 148, 148, 32)      896       \n",
      "_________________________________________________________________\n",
      "activation_53 (Activation)   (None, 148, 148, 32)      0         \n",
      "_________________________________________________________________\n",
      "max_pooling2d_19 (MaxPooling (None, 74, 74, 32)        0         \n",
      "_________________________________________________________________\n",
      "conv2d_20 (Conv2D)           (None, 72, 72, 64)        18496     \n",
      "_________________________________________________________________\n",
      "activation_54 (Activation)   (None, 72, 72, 64)        0         \n",
      "_________________________________________________________________\n",
      "max_pooling2d_20 (MaxPooling (None, 36, 36, 64)        0         \n",
      "_________________________________________________________________\n",
      "flatten_18 (Flatten)         (None, 82944)             0         \n",
      "_________________________________________________________________\n",
      "dense_35 (Dense)             (None, 64)                5308480   \n",
      "_________________________________________________________________\n",
      "activation_55 (Activation)   (None, 64)                0         \n",
      "_________________________________________________________________\n",
      "dropout_18 (Dropout)         (None, 64)                0         \n",
      "_________________________________________________________________\n",
      "dense_36 (Dense)             (None, 1)                 65        \n",
      "_________________________________________________________________\n",
      "activation_56 (Activation)   (None, 1)                 0         \n",
      "=================================================================\n",
      "Total params: 5,327,937\n",
      "Trainable params: 5,327,937\n",
      "Non-trainable params: 0\n",
      "_________________________________________________________________\n",
      "None\n",
      "---> Save model ...\n",
      "Done!\n"
     ]
    }
   ],
   "source": [
    "print('--> Training Conv-Conv-FC ver 1 ...')\n",
    "model = CNN_2Conv_1FC(convs=32, dims=3, epochs=50, batch_size=64, input_shape= input_shape)\n",
    "print(model.summary())\n",
    "\n",
    "# Save the weights and the full model\n",
    "print('---> Save model ...')\n",
    "model.save_weights(os.path.join(modelFolder,'model2_1_Conv-Conv-FC_weigths.h5'))\n",
    "print('Done!')"
   ]
  },
  {
   "cell_type": "markdown",
   "metadata": {},
   "source": [
    "**Conclusions**: By adding the second Conv layer we can see accuracy improvment to over 85% using `5,327,937 parameters`.\n",
    "\n",
    "In the next step, we shall try the same topology Conv 64 - Conv 128  - FC (with a double number of filters):"
   ]
  },
  {
   "cell_type": "code",
   "execution_count": 37,
   "metadata": {
    "scrolled": true
   },
   "outputs": [
    {
     "data": {
      "image/png": "[encoded data removed]",
      "text/plain": [
       "<Figure size 432x288 with 1 Axes>"
      ]
     },
     "metadata": {},
     "output_type": "display_data"
    },
    {
     "name": "stdout",
     "output_type": "stream",
     "text": [
      "Validation/Test loss    : 0.413276731967926\n",
      "Validation/Test accuracy: 0.8359375\n",
      "_________________________________________________________________\n",
      "Layer (type)                 Output Shape              Param #   \n",
      "=================================================================\n",
      "conv2d_21 (Conv2D)           (None, 148, 148, 64)      1792      \n",
      "_________________________________________________________________\n",
      "activation_57 (Activation)   (None, 148, 148, 64)      0         \n",
      "_________________________________________________________________\n",
      "max_pooling2d_21 (MaxPooling (None, 74, 74, 64)        0         \n",
      "_________________________________________________________________\n",
      "conv2d_22 (Conv2D)           (None, 72, 72, 128)       73856     \n",
      "_________________________________________________________________\n",
      "activation_58 (Activation)   (None, 72, 72, 128)       0         \n",
      "_________________________________________________________________\n",
      "max_pooling2d_22 (MaxPooling (None, 36, 36, 128)       0         \n",
      "_________________________________________________________________\n",
      "flatten_19 (Flatten)         (None, 165888)            0         \n",
      "_________________________________________________________________\n",
      "dense_37 (Dense)             (None, 128)               21233792  \n",
      "_________________________________________________________________\n",
      "activation_59 (Activation)   (None, 128)               0         \n",
      "_________________________________________________________________\n",
      "dropout_19 (Dropout)         (None, 128)               0         \n",
      "_________________________________________________________________\n",
      "dense_38 (Dense)             (None, 1)                 129       \n",
      "_________________________________________________________________\n",
      "activation_60 (Activation)   (None, 1)                 0         \n",
      "=================================================================\n",
      "Total params: 21,309,569\n",
      "Trainable params: 21,309,569\n",
      "Non-trainable params: 0\n",
      "_________________________________________________________________\n",
      "None\n",
      "---> Save model ...\n",
      "Done!\n"
     ]
    }
   ],
   "source": [
    "print('--> Training Conv-Conv-FC ver 2 ...')\n",
    "model = CNN_2Conv_1FC(convs=64, dims=3, epochs=50, batch_size=64, input_shape= input_shape)\n",
    "print(model.summary())\n",
    "\n",
    "# Save the weights and the full model\n",
    "print('---> Save model ...')\n",
    "model.save_weights(os.path.join(modelFolder,'model2_2_Conv-Conv-FC_weigths.h5'))\n",
    "print('Done!')"
   ]
  },
  {
   "cell_type": "markdown",
   "metadata": {},
   "source": [
    "**Conclusions**: By doubling the number of filters for `Conv-Conv-FC` with `21,309,569 parameters` no better results are obtained.\n",
    "\n",
    "### Small CNNs: 3 Conv - 1FC\n",
    "\n",
    "In the next step, we shall add the 3rd Conv layer to obtain a similar topology with the LeCun net: `Conv-Conv-Conv-FC`:"
   ]
  },
  {
   "cell_type": "code",
   "execution_count": 41,
   "metadata": {},
   "outputs": [],
   "source": [
    "def CNN_3Conv_1FC(convs, dims, epochs, batch_size, input_shape):\n",
    "    # CNN with 3 Conv + 1 FC\n",
    "    # convs = no of filters\n",
    "    # dims = dimension of convolution dims x dims\n",
    "    # epochs = training epochs\n",
    "    # batch_size = training batch size\n",
    "    # input_shape = shape of the inputs\n",
    "    \n",
    "    # for reproductibility\n",
    "    seed(1)            # numpy seed\n",
    "    set_random_seed(2) # tensorflow seed\n",
    "    \n",
    "    # Start the computational graph for our CNN\n",
    "    model = Sequential()\n",
    "    \n",
    "    # Conv 1 filters\n",
    "    model.add(Conv2D(convs, (dims, dims), input_shape=input_shape))\n",
    "    model.add(Activation('relu'))\n",
    "    model.add(MaxPooling2D(pool_size=(2, 2)))\n",
    "    \n",
    "    # Conv 2 filters\n",
    "    model.add(Conv2D(convs, (dims, dims), input_shape=input_shape))\n",
    "    model.add(Activation('relu'))\n",
    "    model.add(MaxPooling2D(pool_size=(2, 2)))\n",
    "    \n",
    "    # Conv 3 filters\n",
    "    model.add(Conv2D(convs*2, (dims, dims))) # second Conv has 2x filters!\n",
    "    model.add(Activation('relu'))\n",
    "    model.add(MaxPooling2D(pool_size=(2, 2)))\n",
    "\n",
    "    # Convert convolution to a fully connected layer\n",
    "    model.add(Flatten())\n",
    "    model.add(Dense(convs*2)) # FC has 2x neurons!\n",
    "    model.add(Activation('relu'))\n",
    "    model.add(Dropout(0.5))\n",
    "    model.add(Dense(1))\n",
    "    model.add(Activation('sigmoid'))\n",
    "    \n",
    "    # Compile the model\n",
    "    model.compile(loss='binary_crossentropy',\n",
    "                  optimizer='adam',\n",
    "                  metrics=['accuracy'])\n",
    "\n",
    "    # Aaugmentation configuration for training set\n",
    "    train_datagen = ImageDataGenerator(\n",
    "        rescale=1. / 255,\n",
    "        shear_range=0.2,\n",
    "        zoom_range =0.2,\n",
    "        horizontal_flip=True,\n",
    "        vertical_flip=True,\n",
    "        rotation_range=90)\n",
    "\n",
    "    # Augmentation configuration for testing set: only rescaling!\n",
    "    test_datagen = ImageDataGenerator(rescale=1. / 255)\n",
    "    \n",
    "    train_generator = train_datagen.flow_from_directory(\n",
    "        train_data_dir,\n",
    "        target_size=(img_width, img_height),\n",
    "        batch_size=batch_size,\n",
    "        class_mode='binary')\n",
    "\n",
    "    validation_generator = test_datagen.flow_from_directory(\n",
    "        validation_data_dir,\n",
    "        target_size=(img_width, img_height),\n",
    "        batch_size=batch_size,\n",
    "        class_mode='binary')\n",
    "\n",
    "    model.fit_generator(\n",
    "        train_generator,\n",
    "        steps_per_epoch=nb_train_samples // batch_size,\n",
    "        epochs=epochs,\n",
    "        validation_data=validation_generator,\n",
    "        validation_steps=nb_validation_samples // batch_size,\n",
    "        callbacks=[plot_losses], # using the plotting function for train and validation loss\n",
    "        verbose=0)\n",
    "\n",
    "    # Evaluate final test loss and accuracy scores\n",
    "    score = model.evaluate_generator(validation_generator, nb_validation_samples//batch_size, workers=7)\n",
    "    print('Validation/Test loss    :', score[0])\n",
    "    print('Validation/Test accuracy:', score[1])\n",
    "    \n",
    "    return model # return the model!"
   ]
  },
  {
   "cell_type": "markdown",
   "metadata": {},
   "source": [
    "Let's try `Conv-Conv-Conv-FC` with 32, 32 and 64 filters (3 x 3):"
   ]
  },
  {
   "cell_type": "code",
   "execution_count": 42,
   "metadata": {
    "scrolled": true
   },
   "outputs": [
    {
     "data": {
      "image/png": "[encoded data removed]",
      "text/plain": [
       "<Figure size 432x288 with 1 Axes>"
      ]
     },
     "metadata": {},
     "output_type": "display_data"
    },
    {
     "name": "stdout",
     "output_type": "stream",
     "text": [
      "Validation/Test loss    : 0.33883558958768845\n",
      "Validation/Test accuracy: 0.87890625\n",
      "_________________________________________________________________\n",
      "Layer (type)                 Output Shape              Param #   \n",
      "=================================================================\n",
      "conv2d_25 (Conv2D)           (None, 148, 148, 32)      896       \n",
      "_________________________________________________________________\n",
      "activation_65 (Activation)   (None, 148, 148, 32)      0         \n",
      "_________________________________________________________________\n",
      "max_pooling2d_25 (MaxPooling (None, 74, 74, 32)        0         \n",
      "_________________________________________________________________\n",
      "conv2d_26 (Conv2D)           (None, 72, 72, 32)        9248      \n",
      "_________________________________________________________________\n",
      "activation_66 (Activation)   (None, 72, 72, 32)        0         \n",
      "_________________________________________________________________\n",
      "max_pooling2d_26 (MaxPooling (None, 36, 36, 32)        0         \n",
      "_________________________________________________________________\n",
      "conv2d_27 (Conv2D)           (None, 34, 34, 64)        18496     \n",
      "_________________________________________________________________\n",
      "activation_67 (Activation)   (None, 34, 34, 64)        0         \n",
      "_________________________________________________________________\n",
      "max_pooling2d_27 (MaxPooling (None, 17, 17, 64)        0         \n",
      "_________________________________________________________________\n",
      "flatten_21 (Flatten)         (None, 18496)             0         \n",
      "_________________________________________________________________\n",
      "dense_41 (Dense)             (None, 64)                1183808   \n",
      "_________________________________________________________________\n",
      "activation_68 (Activation)   (None, 64)                0         \n",
      "_________________________________________________________________\n",
      "dropout_21 (Dropout)         (None, 64)                0         \n",
      "_________________________________________________________________\n",
      "dense_42 (Dense)             (None, 1)                 65        \n",
      "_________________________________________________________________\n",
      "activation_69 (Activation)   (None, 1)                 0         \n",
      "=================================================================\n",
      "Total params: 1,212,513\n",
      "Trainable params: 1,212,513\n",
      "Non-trainable params: 0\n",
      "_________________________________________________________________\n",
      "None\n",
      "---> Save model ...\n",
      "Done!\n"
     ]
    }
   ],
   "source": [
    "print('--> Training Conv-Conv-Conv-FC ver 1 ...')\n",
    "model = CNN_3Conv_1FC(convs=32, dims=3, epochs=50, batch_size=64, input_shape= input_shape)\n",
    "print(model.summary())\n",
    "\n",
    "# Save the weights and the full model\n",
    "print('---> Save model ...')\n",
    "model.save_weights(os.path.join(modelFolder,'model3_1_Conv-Conv-Conv-FC_weigths.h5'))\n",
    "print('Done!')"
   ]
  },
  {
   "cell_type": "markdown",
   "metadata": {},
   "source": [
    "Let's try `Conv-Conv-Conv-FC` with double number of filters: 64, 64 and 128 filters (3 x 3):"
   ]
  },
  {
   "cell_type": "code",
   "execution_count": 43,
   "metadata": {},
   "outputs": [
    {
     "data": {
      "image/png": "[encoded data removed]",
      "text/plain": [
       "<Figure size 432x288 with 1 Axes>"
      ]
     },
     "metadata": {},
     "output_type": "display_data"
    },
    {
     "name": "stdout",
     "output_type": "stream",
     "text": [
      "Validation/Test loss    : 0.36095644533634186\n",
      "Validation/Test accuracy: 0.8828125\n",
      "_________________________________________________________________\n",
      "Layer (type)                 Output Shape              Param #   \n",
      "=================================================================\n",
      "conv2d_28 (Conv2D)           (None, 148, 148, 64)      1792      \n",
      "_________________________________________________________________\n",
      "activation_70 (Activation)   (None, 148, 148, 64)      0         \n",
      "_________________________________________________________________\n",
      "max_pooling2d_28 (MaxPooling (None, 74, 74, 64)        0         \n",
      "_________________________________________________________________\n",
      "conv2d_29 (Conv2D)           (None, 72, 72, 64)        36928     \n",
      "_________________________________________________________________\n",
      "activation_71 (Activation)   (None, 72, 72, 64)        0         \n",
      "_________________________________________________________________\n",
      "max_pooling2d_29 (MaxPooling (None, 36, 36, 64)        0         \n",
      "_________________________________________________________________\n",
      "conv2d_30 (Conv2D)           (None, 34, 34, 128)       73856     \n",
      "_________________________________________________________________\n",
      "activation_72 (Activation)   (None, 34, 34, 128)       0         \n",
      "_________________________________________________________________\n",
      "max_pooling2d_30 (MaxPooling (None, 17, 17, 128)       0         \n",
      "_________________________________________________________________\n",
      "flatten_22 (Flatten)         (None, 36992)             0         \n",
      "_________________________________________________________________\n",
      "dense_43 (Dense)             (None, 128)               4735104   \n",
      "_________________________________________________________________\n",
      "activation_73 (Activation)   (None, 128)               0         \n",
      "_________________________________________________________________\n",
      "dropout_22 (Dropout)         (None, 128)               0         \n",
      "_________________________________________________________________\n",
      "dense_44 (Dense)             (None, 1)                 129       \n",
      "_________________________________________________________________\n",
      "activation_74 (Activation)   (None, 1)                 0         \n",
      "=================================================================\n",
      "Total params: 4,847,809\n",
      "Trainable params: 4,847,809\n",
      "Non-trainable params: 0\n",
      "_________________________________________________________________\n",
      "None\n",
      "---> Save model ...\n",
      "Done!\n"
     ]
    }
   ],
   "source": [
    "print('--> Training Conv-Conv-Conv-FC ver 2 ...')\n",
    "model = CNN_3Conv_1FC(convs=64, dims=3, epochs=50, batch_size=64, input_shape= input_shape)\n",
    "\n",
    "print(model.summary())\n",
    "\n",
    "# Save the weights and the full model\n",
    "print('---> Save model ...')\n",
    "model.save_weights(os.path.join(modelFolder,'model3_2_Conv-Conv-Conv-FC_weigths.h5'))\n",
    "print('Done!')"
   ]
  },
  {
   "cell_type": "markdown",
   "metadata": {},
   "source": [
    "Good! It is possible to obtain 88% accuracy in only 50 iterations! So, let's see what we can have in 100 iterations:"
   ]
  },
  {
   "cell_type": "code",
   "execution_count": 44,
   "metadata": {},
   "outputs": [
    {
     "data": {
      "image/png": "[encoded data removed]",
      "text/plain": [
       "<Figure size 432x288 with 1 Axes>"
      ]
     },
     "metadata": {},
     "output_type": "display_data"
    },
    {
     "name": "stdout",
     "output_type": "stream",
     "text": [
      "Validation/Test loss    : 0.2198791243135929\n",
      "Validation/Test accuracy: 0.921875\n",
      "_________________________________________________________________\n",
      "Layer (type)                 Output Shape              Param #   \n",
      "=================================================================\n",
      "conv2d_31 (Conv2D)           (None, 148, 148, 64)      1792      \n",
      "_________________________________________________________________\n",
      "activation_75 (Activation)   (None, 148, 148, 64)      0         \n",
      "_________________________________________________________________\n",
      "max_pooling2d_31 (MaxPooling (None, 74, 74, 64)        0         \n",
      "_________________________________________________________________\n",
      "conv2d_32 (Conv2D)           (None, 72, 72, 64)        36928     \n",
      "_________________________________________________________________\n",
      "activation_76 (Activation)   (None, 72, 72, 64)        0         \n",
      "_________________________________________________________________\n",
      "max_pooling2d_32 (MaxPooling (None, 36, 36, 64)        0         \n",
      "_________________________________________________________________\n",
      "conv2d_33 (Conv2D)           (None, 34, 34, 128)       73856     \n",
      "_________________________________________________________________\n",
      "activation_77 (Activation)   (None, 34, 34, 128)       0         \n",
      "_________________________________________________________________\n",
      "max_pooling2d_33 (MaxPooling (None, 17, 17, 128)       0         \n",
      "_________________________________________________________________\n",
      "flatten_23 (Flatten)         (None, 36992)             0         \n",
      "_________________________________________________________________\n",
      "dense_45 (Dense)             (None, 128)               4735104   \n",
      "_________________________________________________________________\n",
      "activation_78 (Activation)   (None, 128)               0         \n",
      "_________________________________________________________________\n",
      "dropout_23 (Dropout)         (None, 128)               0         \n",
      "_________________________________________________________________\n",
      "dense_46 (Dense)             (None, 1)                 129       \n",
      "_________________________________________________________________\n",
      "activation_79 (Activation)   (None, 1)                 0         \n",
      "=================================================================\n",
      "Total params: 4,847,809\n",
      "Trainable params: 4,847,809\n",
      "Non-trainable params: 0\n",
      "_________________________________________________________________\n",
      "None\n",
      "---> Save model ...\n",
      "Done!\n"
     ]
    }
   ],
   "source": [
    "print('--> Training Conv-Conv-Conv-FC ver 3 ...')\n",
    "model = CNN_3Conv_1FC(convs=64, dims=3, epochs=100, batch_size=64, input_shape= input_shape)\n",
    "\n",
    "print(model.summary())\n",
    "\n",
    "# Save the weights and the full model\n",
    "print('---> Save model ...')\n",
    "model.save_weights(os.path.join(modelFolder,'model3_3_Conv-Conv-Conv-FC_weigths.h5'))\n",
    "print('Done!')"
   ]
  },
  {
   "cell_type": "markdown",
   "metadata": {},
   "source": [
    "**Conclusions**: Using `Conv-Conv-Conv-FC` topologies are improving the previous results up to `92.2% accuracy` (4,847,809 parameters) in 100 iterations! Even more: with only `1,212,513` parameters for the 32, 32, 64 Convs (model3_1) it is possible to have `87.9% accuracy`. Please do not forget about data augmentation! These results confirms the DL theory about the abstract patterns in lower layers to the more general ones in the next layers.\n",
    "\n",
    "### Summary 1Conv-FC, 2Conv-FC, 3Conv-FC\n",
    "\n",
    "Let's summarize the classifiers until this point (`only 50 iterations`). *Please remember that we didn't search for all optimal hyperparameters and these results are just to have a general idea about the power of basic CNNs*.\n",
    "\n",
    "| Model    | Topology  | Filters   | Dim   | Params     | Accuracy |\n",
    "| -------- | --------- | --------- | ----- | ---------- | -------- |\n",
    "| model1_1 | 1Conv-FC  | 32        | 3 x 3 |  5,608,385 | 0.824    |\n",
    "| model1_2 | 1Conv-FC  | 32        | 5 x 5 |  5,459,393 | 0.742    |\n",
    "| model1_3 | 1Conv-FC  | 64        | 3 x 3 | 22,431,617 | 0.824    |\n",
    "| model1_4 | 1Conv-FC  | 128       | 3 x 3 | 89,722,625 | 0.859    |\n",
    "| model2_1 | 2Conv-FC  | 32, 64    | 3 x 3 |  5,327,937 | 0.867    |\n",
    "| model2_2 | 2Conv-FC  | 64, 128   | 3 x 3 | 21,309,569 | 0.836    |\n",
    "| model3_1 | 3Conv-FC  | 32,32,64  | 3 x 3 |  1,212,513 | 0.879    |\n",
    "| model3_2 | 3Conv-FC  | 64,64,128 | 3 x 3 |  4,847,809 | 0.883*   |\n",
    "\n",
    "(* 92.2% accuracy in 100 iterations)\n",
    "\n",
    "## Hyperparameter optimization for 3 Conv - FC\n",
    "\n",
    "In the next section, I shall use the topology Conv-Conv-Conv-FC (64, 64, 128 filters) and try to find the best hyperparameters."
   ]
  },
  {
   "cell_type": "code",
   "execution_count": 49,
   "metadata": {},
   "outputs": [],
   "source": [
    "def CNN_3Conv_1FC_optim(convs, dims, epochs, batch_size, drop_rate, activFunction, optimizer, input_shape):\n",
    "    # CNN with 3 Conv + 1 FC\n",
    "    # convs = no of filters\n",
    "    # dims = dimension of convolution dims x dims\n",
    "    # epochs = training epochs\n",
    "    # batch_size = training batch size\n",
    "    # drop_rate = dropout of neurons\n",
    "    # activFunction = 'relu', 'tanh', etc.\n",
    "    # input_shape = shape of the inputs\n",
    "    \n",
    "    # for reproductibility\n",
    "    #seed(1)            # numpy seed\n",
    "    #set_random_seed(2) # tensorflow seed\n",
    "    \n",
    "    # Start the computational graph for our CNN\n",
    "    model = Sequential()\n",
    "    \n",
    "    # Conv 1 filters\n",
    "    model.add(Conv2D(convs, (dims, dims), input_shape=input_shape))\n",
    "    model.add(Activation(activFunction))\n",
    "    model.add(MaxPooling2D(pool_size=(2, 2)))\n",
    "    \n",
    "    # Conv 2 filters\n",
    "    model.add(Conv2D(convs, (dims, dims), input_shape=input_shape))\n",
    "    model.add(Activation(activFunction))\n",
    "    model.add(MaxPooling2D(pool_size=(2, 2)))\n",
    "    \n",
    "    # Conv 3 filters\n",
    "    model.add(Conv2D(convs*2, (dims, dims))) # second Conv has 2x filters!\n",
    "    model.add(Activation(activFunction))\n",
    "    model.add(MaxPooling2D(pool_size=(2, 2)))\n",
    "\n",
    "    # Convert convolution to a fully connected layer\n",
    "    model.add(Flatten())\n",
    "    model.add(Dense(convs*2)) # FC has 2x neurons!\n",
    "    model.add(Activation(activFunction))\n",
    "    model.add(Dropout(drop_rate))\n",
    "    model.add(Dense(1))\n",
    "    model.add(Activation('sigmoid'))\n",
    "    \n",
    "    # Compile the model\n",
    "    model.compile(loss='binary_crossentropy',\n",
    "                  optimizer=optimizer,\n",
    "                  metrics=['accuracy'])\n",
    "\n",
    "    # Aaugmentation configuration for training set\n",
    "    train_datagen = ImageDataGenerator(\n",
    "        rescale=1. / 255,\n",
    "        shear_range=0.2,\n",
    "        zoom_range =0.2,\n",
    "        horizontal_flip=True,\n",
    "        vertical_flip=True,\n",
    "        rotation_range=90)\n",
    "\n",
    "    # Augmentation configuration for testing set: only rescaling!\n",
    "    test_datagen = ImageDataGenerator(rescale=1. / 255)\n",
    "    \n",
    "    train_generator = train_datagen.flow_from_directory(\n",
    "        train_data_dir,\n",
    "        target_size=(img_width, img_height),\n",
    "        batch_size=batch_size,\n",
    "        class_mode='binary')\n",
    "\n",
    "    validation_generator = test_datagen.flow_from_directory(\n",
    "        validation_data_dir,\n",
    "        target_size=(img_width, img_height),\n",
    "        batch_size=batch_size,\n",
    "        class_mode='binary')\n",
    "\n",
    "    model.fit_generator(\n",
    "        train_generator,\n",
    "        steps_per_epoch=nb_train_samples // batch_size,\n",
    "        epochs=epochs,\n",
    "        validation_data=validation_generator,\n",
    "        validation_steps=nb_validation_samples // batch_size,\n",
    "        verbose=0,\n",
    "        workers=7) # using multi-cpu!\n",
    "\n",
    "    # Evaluate final test loss and accuracy scores\n",
    "    score = model.evaluate_generator(validation_generator, nb_validation_samples//batch_size, workers=7)\n",
    "    return (score[0],score[1]) # test loss and accuracy"
   ]
  },
  {
   "cell_type": "markdown",
   "metadata": {},
   "source": [
    "**Search**: Let's see what we can obtain if we search for the most accurate classifier with different `batch size` and `drop rate` values. I will use `workers=7` in order to use parallel CPU cores for fit and evaluate functions. *Please adapt this value to your device CPU cores!*\n",
    "\n",
    "**Notes**:\n",
    "* Topology: Conv-Conv-Conv-FC (64-64-128 filters).\n",
    "* Filter dimension `3 x 3`, 50 epochs.\n",
    "* Optimizers are using their default parameters.\n",
    "* `accuracy` is used for training and testing.\n",
    "* `binary crossentropy` is the loss function with the last activation function as `sigmoid` (to obtain polyps or non-polyps class).\n",
    "* `MaxPooling2D` is 2 x 2.\n",
    "* I will use the `for` loops without other SearchGrid functions."
   ]
  },
  {
   "cell_type": "code",
   "execution_count": 50,
   "metadata": {},
   "outputs": [
    {
     "name": "stdout",
     "output_type": "stream",
     "text": [
      "--> Search for the best hyperparameters: batch size and drop rate ...\n",
      "Fixed params - Filters, Filter size, Epochs, Activations, Optimizer: 64 3 50 relu Adam\n",
      "Searching params - Batch size, Drop rate [8, 16, 32, 64, 128] [0.1, 0.5, 0.9]\n",
      "Found 910 images belonging to 2 classes.\n",
      "Found 302 images belonging to 2 classes.\n",
      "64 3 50 8 0.1 relu Adam 0.423486386249597 0.8412162162162162\n",
      "--> Iter time: 1.9 mins ---\n",
      "Found 910 images belonging to 2 classes.\n",
      "Found 302 images belonging to 2 classes.\n",
      "64 3 50 8 0.5 relu Adam 0.3057052805214315 0.8783783783783784\n",
      "--> Iter time: 1.9 mins ---\n",
      "Found 910 images belonging to 2 classes.\n",
      "Found 302 images belonging to 2 classes.\n",
      "64 3 50 8 0.9 relu Adam 0.6931530849353688 0.5\n",
      "--> Iter time: 1.9 mins ---\n",
      "Found 910 images belonging to 2 classes.\n",
      "Found 302 images belonging to 2 classes.\n",
      "64 3 50 16 0.1 relu Adam 0.391617973231607 0.8923611111111112\n",
      "--> Iter time: 1.6 mins ---\n",
      "Found 910 images belonging to 2 classes.\n",
      "Found 302 images belonging to 2 classes.\n",
      "64 3 50 16 0.5 relu Adam 0.2892870720889833 0.9166666666666666\n",
      "--> Iter time: 1.6 mins ---\n",
      "Found 910 images belonging to 2 classes.\n",
      "Found 302 images belonging to 2 classes.\n",
      "64 3 50 16 0.9 relu Adam 0.5035901019970576 0.7430555555555556\n",
      "--> Iter time: 1.6 mins ---\n",
      "Found 910 images belonging to 2 classes.\n",
      "Found 302 images belonging to 2 classes.\n",
      "64 3 50 32 0.1 relu Adam 0.3220406182938152 0.9097222222222222\n",
      "--> Iter time: 1.5 mins ---\n",
      "Found 910 images belonging to 2 classes.\n",
      "Found 302 images belonging to 2 classes.\n",
      "64 3 50 32 0.5 relu Adam 0.32446981635358596 0.8888888888888888\n",
      "--> Iter time: 1.5 mins ---\n",
      "Found 910 images belonging to 2 classes.\n",
      "Found 302 images belonging to 2 classes.\n",
      "64 3 50 32 0.9 relu Adam 0.3362124347024494 0.8819444444444444\n",
      "--> Iter time: 1.5 mins ---\n",
      "Found 910 images belonging to 2 classes.\n",
      "Found 302 images belonging to 2 classes.\n",
      "64 3 50 64 0.1 relu Adam 0.2848696671426296 0.8984375\n",
      "--> Iter time: 1.5 mins ---\n",
      "Found 910 images belonging to 2 classes.\n",
      "Found 302 images belonging to 2 classes.\n",
      "64 3 50 64 0.5 relu Adam 0.269416157156229 0.92578125\n",
      "--> Iter time: 1.5 mins ---\n",
      "Found 910 images belonging to 2 classes.\n",
      "Found 302 images belonging to 2 classes.\n",
      "64 3 50 64 0.9 relu Adam 0.4051167443394661 0.84375\n",
      "--> Iter time: 1.5 mins ---\n",
      "Found 910 images belonging to 2 classes.\n",
      "Found 302 images belonging to 2 classes.\n",
      "64 3 50 128 0.1 relu Adam 0.4041638672351837 0.84765625\n",
      "--> Iter time: 1.6 mins ---\n",
      "Found 910 images belonging to 2 classes.\n",
      "Found 302 images belonging to 2 classes.\n",
      "64 3 50 128 0.5 relu Adam 0.47337886691093445 0.77734375\n",
      "--> Iter time: 1.6 mins ---\n",
      "Found 910 images belonging to 2 classes.\n",
      "Found 302 images belonging to 2 classes.\n",
      "64 3 50 128 0.9 relu Adam 0.37934036552906036 0.859375\n",
      "--> Iter time: 1.6 mins ---\n",
      "Done! Total time: 24.3 mins ---\n"
     ]
    }
   ],
   "source": [
    "# Search for the best hyperparameters:  batch size and drop rate\n",
    "print('--> Search for the best hyperparameters: batch size and drop rate ...')\n",
    "\n",
    "# Fixed params from the best model in Search 1\n",
    "convs = 64\n",
    "dims = 3\n",
    "epochs = 50\n",
    "activFunction = 'relu'\n",
    "optimizer = 'Adam'\n",
    "print('Fixed params - Filters, Filter size, Epochs, Activations, Optimizer:', convs, dims, epochs, activFunction, optimizer)\n",
    "\n",
    "# Grid search for parameters\n",
    "batch_sizeGrid = [8, 16, 32, 64, 128]\n",
    "drop_rateGrid  = [0.1, 0.5, 0.9]\n",
    "print('Searching params - Batch size, Drop rate', batch_sizeGrid, drop_rateGrid)\n",
    "\n",
    "# Start total timer\n",
    "start_time = time.time()\n",
    "\n",
    "# get all the results as list\n",
    "results = []\n",
    "for batch_size in batch_sizeGrid:\n",
    "    for drop_rate in drop_rateGrid:\n",
    "        # timer for each iteration\n",
    "        istart_time = time.time()\n",
    "        # get Loss and Accuracy for CNN Conv-Conv-Conv-FC with specific parameters\n",
    "        iLoss, iAccuracy = CNN_3Conv_1FC_optim(convs, dims, epochs, batch_size, drop_rate, activFunction, optimizer, input_shape)\n",
    "        # append the results to a list\n",
    "        results.append([convs, dims, epochs, batch_size, drop_rate, activFunction, optimizer, iLoss, iAccuracy])\n",
    "        # print for each iteration the results and the iteration time\n",
    "        print(convs, dims, epochs, batch_size, drop_rate, activFunction, optimizer, iLoss, iAccuracy)\n",
    "        print(\"--> Iter time: %0.1f mins ---\" % ((time.time() - istart_time) / 60))\n",
    "\n",
    "# Print total time for the parameter search \n",
    "print(\"Done! Total time: %0.1f mins ---\" % ((time.time() - start_time)/60))"
   ]
  },
  {
   "cell_type": "markdown",
   "metadata": {},
   "source": [
    "Let's save these results on the disk as `ParamSearch.csv` in `results` subfolder:"
   ]
  },
  {
   "cell_type": "code",
   "execution_count": 52,
   "metadata": {},
   "outputs": [],
   "source": [
    "def WriteListOfList(sFile, header):\n",
    "    # Write search results to disk\n",
    "    # sFile = path + filename to write the list\n",
    "    # header = custom header for the list data\n",
    "\n",
    "    with open(sFile, 'w') as f:\n",
    "        f.write(header)\n",
    "        for _list in results:\n",
    "            sout = ''\n",
    "            for _string in _list:\n",
    "                sout = sout + str(_string) + ','\n",
    "            f.write(sout[:-1] + '\\n')"
   ]
  },
  {
   "cell_type": "code",
   "execution_count": 53,
   "metadata": {},
   "outputs": [],
   "source": [
    "sFile = './results/ParamSearch.csv'\n",
    "header= 'filterNo, filterSize, epochs, batch_size, drop_rate, activFunction, optimizer, Loss, Accuracy\\n'\n",
    "WriteListOfList(sFile, header)"
   ]
  },
  {
   "cell_type": "markdown",
   "metadata": {},
   "source": [
    "In the results for the second search parameters we can see that same set of hyperparameters gives the best accuracy results. The accuracy difference are generated by several random initializations such as weigths in layers, etc.\n",
    "\n",
    "| Batch size | Drop rate | Accuracy |\n",
    "| --------   | --------- | -------- |\n",
    "| 64 | 0.5 | 0.926 |\n",
    "| 16 | 0.5 | 0.917 |\n",
    "| 32 | 0.1 | 0.910 |\n",
    "| 64 | 0.1 | 0.898 |\n",
    "| 16 | 0.1 | 0.892 |\n",
    "| 32 | 0.5 | 0.889 |\n",
    "| 32 | 0.9 | 0.882 |\n",
    "| 8 | 0.5 | 0.878 |\n",
    "| 128 | 0.9 | 0.859 |\n",
    "| 128 | 0.1 | 0.848 |\n",
    "| 64 | 0.9 | 0.844 |\n",
    "| 8 | 0.1 | 0.841 |\n",
    "| 128 | 0.5 | 0.777 |\n",
    "| 16 | 0.9 | 0.743 |\n",
    "| 8 | 0.9 | 0.500 |\n",
    "\n",
    "**You can observe that in less than 2 minutes you can train a 90% accuracy classifier for colonoscopy polyps!**\n",
    "\n",
    "Let's train again the best model using the interactive plot of the loss during `500 epochs`:"
   ]
  },
  {
   "cell_type": "code",
   "execution_count": 55,
   "metadata": {},
   "outputs": [
    {
     "data": {
      "image/png": "[encoded data removed]",
      "text/plain": [
       "<Figure size 432x288 with 1 Axes>"
      ]
     },
     "metadata": {},
     "output_type": "display_data"
    },
    {
     "name": "stdout",
     "output_type": "stream",
     "text": [
      "Validation/Test loss    : 0.15933184139430523\n",
      "Validation/Test accuracy: 0.96484375\n",
      "_________________________________________________________________\n",
      "Layer (type)                 Output Shape              Param #   \n",
      "=================================================================\n",
      "conv2d_148 (Conv2D)          (None, 148, 148, 64)      1792      \n",
      "_________________________________________________________________\n",
      "activation_270 (Activation)  (None, 148, 148, 64)      0         \n",
      "_________________________________________________________________\n",
      "max_pooling2d_148 (MaxPoolin (None, 74, 74, 64)        0         \n",
      "_________________________________________________________________\n",
      "conv2d_149 (Conv2D)          (None, 72, 72, 64)        36928     \n",
      "_________________________________________________________________\n",
      "activation_271 (Activation)  (None, 72, 72, 64)        0         \n",
      "_________________________________________________________________\n",
      "max_pooling2d_149 (MaxPoolin (None, 36, 36, 64)        0         \n",
      "_________________________________________________________________\n",
      "conv2d_150 (Conv2D)          (None, 34, 34, 128)       73856     \n",
      "_________________________________________________________________\n",
      "activation_272 (Activation)  (None, 34, 34, 128)       0         \n",
      "_________________________________________________________________\n",
      "max_pooling2d_150 (MaxPoolin (None, 17, 17, 128)       0         \n",
      "_________________________________________________________________\n",
      "flatten_62 (Flatten)         (None, 36992)             0         \n",
      "_________________________________________________________________\n",
      "dense_123 (Dense)            (None, 128)               4735104   \n",
      "_________________________________________________________________\n",
      "activation_273 (Activation)  (None, 128)               0         \n",
      "_________________________________________________________________\n",
      "dropout_62 (Dropout)         (None, 128)               0         \n",
      "_________________________________________________________________\n",
      "dense_124 (Dense)            (None, 1)                 129       \n",
      "_________________________________________________________________\n",
      "activation_274 (Activation)  (None, 1)                 0         \n",
      "=================================================================\n",
      "Total params: 4,847,809\n",
      "Trainable params: 4,847,809\n",
      "Non-trainable params: 0\n",
      "_________________________________________________________________\n",
      "None\n",
      "---> Save model ...\n",
      "Done!\n"
     ]
    }
   ],
   "source": [
    "print('--> Training best model for Small CNNs: Conv-Conv-Conv-FC ...')\n",
    "model = CNN_3Conv_1FC(convs=64, dims=3, epochs=500, batch_size=64, input_shape= input_shape)\n",
    "print(model.summary())\n",
    "\n",
    "# Save the weights and the full model\n",
    "print('---> Save model ...')\n",
    "model.save_weights(os.path.join(modelFolder,'model_best_Conv-Conv-Conv-FC_weigths.h5'))\n",
    "model.save(os.path.join(modelFolder,'model_best_Conv-Conv-Conv-FC_full.h5'))\n",
    "print('Done!')"
   ]
  },
  {
   "cell_type": "markdown",
   "metadata": {},
   "source": [
    "We can observe an overfitting during the training and therefore I will try extra regularization by increasing the drop rate to `0.9`:"
   ]
  },
  {
   "cell_type": "code",
   "execution_count": 69,
   "metadata": {},
   "outputs": [],
   "source": [
    "def CNN_3Conv_1FCv2(convs, dims, epochs, batch_size, drop_rate, input_shape):\n",
    "    # CNN with 3 Conv + 1 FC\n",
    "    # convs = no of filters\n",
    "    # dims = dimension of convolution dims x dims\n",
    "    # epochs = training epochs\n",
    "    # batch_size = training batch size\n",
    "    # drop_rate = drop rate (0, 1.0) <---- added\n",
    "    # input_shape = shape of the inputs\n",
    "    \n",
    "    # for reproductibility\n",
    "    seed(1)            # numpy seed\n",
    "    set_random_seed(2) # tensorflow seed\n",
    "    \n",
    "    # Start the computational graph for our CNN\n",
    "    model = Sequential()\n",
    "    \n",
    "    # Conv 1 filters\n",
    "    model.add(Conv2D(convs, (dims, dims), input_shape=input_shape))\n",
    "    model.add(Activation('relu'))\n",
    "    model.add(MaxPooling2D(pool_size=(2, 2)))\n",
    "    \n",
    "    # Conv 2 filters\n",
    "    model.add(Conv2D(convs, (dims, dims), input_shape=input_shape))\n",
    "    model.add(Activation('relu'))\n",
    "    model.add(MaxPooling2D(pool_size=(2, 2)))\n",
    "    \n",
    "    # Conv 3 filters\n",
    "    model.add(Conv2D(convs*2, (dims, dims))) # second Conv has 2x filters!\n",
    "    model.add(Activation('relu'))\n",
    "    model.add(MaxPooling2D(pool_size=(2, 2)))\n",
    "\n",
    "    # Convert convolution to a fully connected layer\n",
    "    model.add(Flatten())\n",
    "    model.add(Dense(convs*2)) # FC has 2x neurons!\n",
    "    model.add(Activation('relu'))\n",
    "    model.add(Dropout(drop_rate))\n",
    "    model.add(Dense(1))\n",
    "    model.add(Activation('sigmoid'))\n",
    "    \n",
    "    # Compile the model\n",
    "    model.compile(loss='binary_crossentropy',\n",
    "                  optimizer='adam',\n",
    "                  metrics=['accuracy'])\n",
    "\n",
    "    # Aaugmentation configuration for training set\n",
    "    train_datagen = ImageDataGenerator(\n",
    "        rescale=1. / 255,\n",
    "        shear_range=0.2,\n",
    "        zoom_range =0.2,\n",
    "        horizontal_flip=True,\n",
    "        vertical_flip=True,\n",
    "        rotation_range=90)\n",
    "\n",
    "    # Augmentation configuration for testing set: only rescaling!\n",
    "    test_datagen = ImageDataGenerator(rescale=1. / 255)\n",
    "    \n",
    "    train_generator = train_datagen.flow_from_directory(\n",
    "        train_data_dir,\n",
    "        target_size=(img_width, img_height),\n",
    "        batch_size=batch_size,\n",
    "        class_mode='binary')\n",
    "\n",
    "    validation_generator = test_datagen.flow_from_directory(\n",
    "        validation_data_dir,\n",
    "        target_size=(img_width, img_height),\n",
    "        batch_size=batch_size,\n",
    "        class_mode='binary')\n",
    "\n",
    "    model.fit_generator(\n",
    "        train_generator,\n",
    "        steps_per_epoch=nb_train_samples // batch_size,\n",
    "        epochs=epochs,\n",
    "        validation_data=validation_generator,\n",
    "        validation_steps=nb_validation_samples // batch_size,\n",
    "        callbacks=[plot_losses], # using the plotting function for train and validation loss\n",
    "        verbose=0)\n",
    "\n",
    "    # Evaluate final test loss and accuracy scores\n",
    "    score_val = model.evaluate_generator(validation_generator, nb_validation_samples//batch_size, workers=7)\n",
    "    score_tr  = model.evaluate_generator(train_generator, nb_train_samples//batch_size, workers=7)\n",
    "    print('Train loss    :', score_tr[0])\n",
    "    print('Train accuracy:', score_tr[1])\n",
    "    print('Validation loss    :', score_val[0])\n",
    "    print('Validation accuracy:', score_val[1])\n",
    "    \n",
    "    return model # return the model!"
   ]
  },
  {
   "cell_type": "code",
   "execution_count": 74,
   "metadata": {},
   "outputs": [
    {
     "data": {
      "image/png": "[encoded data removed]",
      "text/plain": [
       "<Figure size 432x288 with 1 Axes>"
      ]
     },
     "metadata": {},
     "output_type": "display_data"
    },
    {
     "name": "stdout",
     "output_type": "stream",
     "text": [
      "Train loss    : 0.0937776898166963\n",
      "Train accuracy: 0.9654017857142857\n",
      "Validation loss    : 0.2025301423855126\n",
      "Validation accuracy: 0.94921875\n",
      "_________________________________________________________________\n",
      "Layer (type)                 Output Shape              Param #   \n",
      "=================================================================\n",
      "conv2d_169 (Conv2D)          (None, 148, 148, 64)      1792      \n",
      "_________________________________________________________________\n",
      "activation_305 (Activation)  (None, 148, 148, 64)      0         \n",
      "_________________________________________________________________\n",
      "max_pooling2d_169 (MaxPoolin (None, 74, 74, 64)        0         \n",
      "_________________________________________________________________\n",
      "conv2d_170 (Conv2D)          (None, 72, 72, 64)        36928     \n",
      "_________________________________________________________________\n",
      "activation_306 (Activation)  (None, 72, 72, 64)        0         \n",
      "_________________________________________________________________\n",
      "max_pooling2d_170 (MaxPoolin (None, 36, 36, 64)        0         \n",
      "_________________________________________________________________\n",
      "conv2d_171 (Conv2D)          (None, 34, 34, 128)       73856     \n",
      "_________________________________________________________________\n",
      "activation_307 (Activation)  (None, 34, 34, 128)       0         \n",
      "_________________________________________________________________\n",
      "max_pooling2d_171 (MaxPoolin (None, 17, 17, 128)       0         \n",
      "_________________________________________________________________\n",
      "flatten_69 (Flatten)         (None, 36992)             0         \n",
      "_________________________________________________________________\n",
      "dense_137 (Dense)            (None, 128)               4735104   \n",
      "_________________________________________________________________\n",
      "activation_308 (Activation)  (None, 128)               0         \n",
      "_________________________________________________________________\n",
      "dropout_69 (Dropout)         (None, 128)               0         \n",
      "_________________________________________________________________\n",
      "dense_138 (Dense)            (None, 1)                 129       \n",
      "_________________________________________________________________\n",
      "activation_309 (Activation)  (None, 1)                 0         \n",
      "=================================================================\n",
      "Total params: 4,847,809\n",
      "Trainable params: 4,847,809\n",
      "Non-trainable params: 0\n",
      "_________________________________________________________________\n",
      "None\n",
      "---> Save model ...\n",
      "Done!\n"
     ]
    }
   ],
   "source": [
    "print('--> Training best model for Small CNNs: Conv-Conv-Conv-FC ...')\n",
    "model = CNN_3Conv_1FCv2(convs=64, dims=3, epochs=400, batch_size=64,\n",
    "                        drop_rate=0.9, input_shape= input_shape)\n",
    "print(model.summary())\n",
    "\n",
    "# Save the weights and the full model\n",
    "print('---> Save model ...')\n",
    "model.save_weights(os.path.join(modelFolder,'model_best2_Conv-Conv-Conv-FC_weigths.h5'))\n",
    "model.save(os.path.join(modelFolder,'model_best2_Conv-Conv-Conv-FC_full.h5'))\n",
    "print('Done!')"
   ]
  },
  {
   "cell_type": "markdown",
   "metadata": {},
   "source": [
    "With 0.9 dropout we can obtain less accuracy but less overfitting: 0.949 for validation vs. 0.965 for training.\n",
    "\n",
    "**Conclusion**: The best model for colonoscopy using a small CNN could have an test accuracy of `96.5%` using a limited number of images but using keras data augmentation."
   ]
  },
  {
   "cell_type": "markdown",
   "metadata": {},
   "source": [
    "## Final conclusion\n",
    "\n",
    "If you want a classifier to predict a polyp into colonoscopy images, you can use this small dataset with keras augmented data and with only a `small CNN` (Conv-Conv-Conv-FC, similar with LeCun) you can obtain an accuracy `over 90% in only 2 minutes`. In the next script, Transfer Learing will be tested with well known already trained models such as VGG or Inception (see [4-TransferLearningVGG16.ipynb](4-TransferLearningVGG16.ipynb)).\n",
    "\n",
    "Hf with DL! @muntisa"
   ]
  },
  {
   "cell_type": "markdown",
   "metadata": {},
   "source": [
    "**References**\n",
    "\n",
    "* [Dataset on Dropbox](https://www.dropbox.com/s/p5qe9eotetjnbmq/CVC-ClinicDB.rar?dl=0)\n",
    "* [Keras blog with scripts](https://blog.keras.io/building-powerful-image-classification-models-using-very-little-data.html)\n",
    "* [Blog: Colorectal cancer, polyps and deep learning](http://site.uit.no/deephealthresearch/2017/07/19/polyp-detection-using-deep-learning/) (2017)\n"
   ]
  },
  {
   "cell_type": "markdown",
   "metadata": {},
   "source": [
    "### Acknowledgements\n",
    "\n",
    "I gratefully acknowledge the support of NVIDIA Corporation with the donation of the Titan Xp GPU used for this research ([https://developer.nvidia.com/academic_gpu_seeding](https://developer.nvidia.com/academic_gpu_seeding))."
   ]
  },
  {
   "cell_type": "code",
   "execution_count": null,
   "metadata": {},
   "outputs": [],
   "source": []
  }
 ],
 "metadata": {
  "kernelspec": {
   "display_name": "Python 3 (ipykernel)",
   "language": "python",
   "name": "python3"
  },
  "language_info": {
   "codemirror_mode": {
    "name": "ipython",
    "version": 3
   },
   "file_extension": ".py",
   "mimetype": "text/x-python",
   "name": "python",
   "nbconvert_exporter": "python",
   "pygments_lexer": "ipython3",
   "version": "3.9.13"
  }
 },
 "nbformat": 4,
 "nbformat_minor": 2
}
